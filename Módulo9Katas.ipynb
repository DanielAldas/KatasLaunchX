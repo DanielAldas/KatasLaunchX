{
  "cells": [
    {
      "cell_type": "markdown",
      "metadata": {},
      "source": [
        "# Ejercicio: Uso de funciones en Python"
      ]
    },
    {
      "cell_type": "markdown",
      "metadata": {},
      "source": [
        "### Ejercicio 1: Trabajar con argumentos en funciones\n",
        "\n",
        "Los argumentos requeridos en las funciones se utilizan cuando las funciones necesitan que esos argumentos funcionen correctamente. En este ejercicio, construirás un informe de combustible que requiere información de varias ubicaciones de combustible en todo el cohete.\n",
        "\n"
      ]
    },
    {
      "cell_type": "markdown",
      "metadata": {},
      "source": [
        "> **TIP**\n",
        "> Dedica unos minutos para tratar de encontrar una solución. Luego desplázate hacia abajo hasta la parte inferior para ver si has logrado compilar el programa de acuerdo con las especificaciones\n",
        "\n",
        "Comienza por crear una función que necesite tres lecturas de combustible y devuelva un informe:"
      ]
    },
    {
      "cell_type": "code",
      "execution_count": 7,
      "metadata": {},
      "outputs": [],
      "source": [
        "# Función para leer 3 tanques de combustible y muestre el promedio\n",
        "def informe(tanque1,tanque2,tanque3):\n",
        "    return f\"\"\"\n",
        "    INFORME\n",
        "    Tanque 1: {tanque1}\n",
        "    tanque 2: {tanque2}\n",
        "    Tanque 3: {tanque3}\n",
        "    \"\"\"\n"
      ]
    },
    {
      "cell_type": "markdown",
      "metadata": {},
      "source": [
        "Ahora que hemos definido la función de informes, vamos a comprobarlo. Para esta misión, los tanques no están llenos:"
      ]
    },
    {
      "cell_type": "code",
      "execution_count": 8,
      "metadata": {},
      "outputs": [
        {
          "name": "stdout",
          "output_type": "stream",
          "text": [
            "\n",
            "    INFORME\n",
            "    Tanque 1: 80\n",
            "    tanque 2: 29\n",
            "    Tanque 3: 15\n",
            "    \n"
          ]
        }
      ],
      "source": [
        "\n",
        "# Llamamos a la función que genera el reporte print(funcion(tanque1, tanque2, tanque3))\n",
        "print(informe(tanque1=80,tanque2=29, tanque3=15))"
      ]
    },
    {
      "cell_type": "markdown",
      "metadata": {},
      "source": [
        "En lugar de simplemente crear el informe, la función también está calculando el promedio. Mejora la legibilidad extrayendo el cálculo promedio de la función en una nueva función para que el promedio se pueda hacer de forma independiente:"
      ]
    },
    {
      "cell_type": "code",
      "execution_count": 10,
      "metadata": {},
      "outputs": [
        {
          "data": {
            "text/plain": [
              "60.0"
            ]
          },
          "execution_count": 10,
          "metadata": {},
          "output_type": "execute_result"
        }
      ],
      "source": [
        "# Función promedio \n",
        "def promedio(datos):\n",
        "    total = sum(datos)\n",
        "    numero_datos = len(datos)\n",
        "    return total / numero_datos\n",
        "\n",
        "promedio([30,50,100])"
      ]
    },
    {
      "cell_type": "markdown",
      "metadata": {},
      "source": [
        "Ahora actualiza la función de informes para llamando a la nueva función del promedio:\n"
      ]
    },
    {
      "cell_type": "code",
      "execution_count": 15,
      "metadata": {},
      "outputs": [
        {
          "name": "stdout",
          "output_type": "stream",
          "text": [
            "\n",
            "    INFORME\n",
            "    Promedio: 63.666666666666664\n",
            "    Tanque 1: 80\n",
            "    tanque 2: 75\n",
            "    Tanque 3: 36\n",
            "    \n"
          ]
        }
      ],
      "source": [
        "# Actualiza la función\n",
        "def informe(tanque1,tanque2,tanque3):\n",
        "    return print(f\"\"\"\n",
        "    INFORME\n",
        "    Promedio: {promedio([tanque1,tanque2,tanque3])}\n",
        "    Tanque 1: {tanque1}\n",
        "    tanque 2: {tanque2}\n",
        "    Tanque 3: {tanque3}\n",
        "    \"\"\")\n",
        "informe(80,75,36)"
      ]
    },
    {
      "cell_type": "markdown",
      "metadata": {},
      "source": [
        "> Recuerda: Lo importante es intentarlo, puedes auxiliarte de internet, libros, etc. El objetivo de una kata es la comprobación de la comprensión de la lección y su aplicación inmediata a la resolución de problemas. Go for it!"
      ]
    },
    {
      "cell_type": "markdown",
      "metadata": {},
      "source": [
        "## Ejercicio 2: Trabajo con argumentos de palabra clave"
      ]
    },
    {
      "cell_type": "markdown",
      "metadata": {},
      "source": [
        "### Ejercicio : Trabajar con argumentos de palabras clave en funciones\n",
        "En este ejercicio, construirás un informe de cohete que requiere varias piezas de información, como el tiempo hasta el destino, el combustible a la izquierda y el nombre del destino. Comienza por crear una función que creará un informe preciso de la misión:"
      ]
    },
    {
      "cell_type": "code",
      "execution_count": 19,
      "metadata": {},
      "outputs": [
        {
          "name": "stdout",
          "output_type": "stream",
          "text": [
            "\n",
            "    REPORTE DE LA MISION\n",
            "    El viaje a Neptuno tomará 75 minutos\n",
            "    quedan 64412 litros de combustible\n",
            "    \n"
          ]
        }
      ],
      "source": [
        "# Función con un informe preciso de la misión. Considera hora de prelanzamiento, tiempo de vuelo, destino, tanque externo y tanque interno\n",
        "def reporte_mision(prelanzamiento, tiempo_vuelo, destino, tanque_ext, tanque_int):\n",
        "    return f\"\"\"\n",
        "    REPORTE DE LA MISION\n",
        "    El viaje a {destino} tomará {prelanzamiento + tiempo_vuelo} minutos\n",
        "    quedan {tanque_ext + tanque_int} litros de combustible\n",
        "    \"\"\"\n",
        "\n",
        "print(reporte_mision(35, 40, \"Neptuno\", 39067, 25345))"
      ]
    },
    {
      "cell_type": "markdown",
      "metadata": {},
      "source": [
        "La función es problemática porque no se puede adaptar para minutos adicionales o tanques adicionales de combustible. Hazlo más flexible permitiendo cualquier número de pasos basados en el tiempo y cualquier número de tanques. En lugar de usar `*args` y `**kwargs`, aprovecha el hecho de que puedes usar cualquier nombre que desees. Asegurate que la función sea más legible mediante el uso de nombres de variables que están asociados con las entradas, como `*minutes` y `**fuel_reservoirs`:"
      ]
    },
    {
      "cell_type": "code",
      "execution_count": 23,
      "metadata": {},
      "outputs": [
        {
          "name": "stdout",
          "output_type": "stream",
          "text": [
            "\n",
            "    REPORTE DE LA MISION\n",
            "    El viaje a jupiter tomará 67 minutos\n",
            "    quedan 545 litros de combustible\n",
            "    \n"
          ]
        }
      ],
      "source": [
        "# Escribe tu nueva función de reporte considerando lo anterior\n",
        "def reporte_mision(destino, *minutos, **reserva):\n",
        "    return f\"\"\"\n",
        "    REPORTE DE LA MISION\n",
        "    El viaje a {destino} tomará {sum(minutos)} minutos\n",
        "    quedan {sum(reserva.values())} litros de combustible\n",
        "    \"\"\"\n",
        "\n",
        "print(reporte_mision('jupiter', 23, 34, 10, principal=200, emergencia=345))"
      ]
    },
    {
      "cell_type": "markdown",
      "metadata": {},
      "source": [
        "Debido a que el combustible que queda en los tanques es específico de cada tanque, actualiza la función para usar el nombre de cada tanque en el informe:"
      ]
    },
    {
      "cell_type": "code",
      "execution_count": 28,
      "metadata": {},
      "outputs": [
        {
          "name": "stdout",
          "output_type": "stream",
          "text": [
            "\n",
            "    REPORTE DE LA MISION\n",
            "    El viaje a jupiter tomará 67 minutos\n",
            "    quedan 545 litros de combustible\n",
            "    tanque principal  --> 200 litros\n",
            "tanque emergencia  --> 345 litros\n",
            "\n"
          ]
        }
      ],
      "source": [
        "# Escribe tu nueva función\n",
        "def reporte_mision(destino, *minutos, **reserva):\n",
        "    reporte= f\"\"\"\n",
        "    REPORTE DE LA MISION\n",
        "    El viaje a {destino} tomará {sum(minutos)} minutos\n",
        "    quedan {sum(reserva.values())} litros de combustible\n",
        "    \"\"\"\n",
        "    for tank_name, gallons in reserva.items():\n",
        "        reporte += f\"tanque {tank_name}  --> {gallons} litros\\n\"\n",
        "    return reporte\n",
        "\n",
        "print(reporte_mision('jupiter', 23, 34, 10, principal=200, emergencia=345))"
      ]
    }
  ],
  "metadata": {
    "interpreter": {
      "hash": "205095b8b86ea82a021a8fc2ffba2b3bc9f8d0be25999901963b225939f75778"
    },
    "kernelspec": {
      "display_name": "Python 3.8.10 64-bit ('tmp': conda)",
      "name": "python3"
    },
    "language_info": {
      "codemirror_mode": {
        "name": "ipython",
        "version": 3
      },
      "file_extension": ".py",
      "mimetype": "text/x-python",
      "name": "python",
      "nbconvert_exporter": "python",
      "pygments_lexer": "ipython3",
      "version": "3.8.5"
    },
    "nteract": {
      "version": "nteract-front-end@1.0.0"
    },
    "orig_nbformat": 4
  },
  "nbformat": 4,
  "nbformat_minor": 2
}
